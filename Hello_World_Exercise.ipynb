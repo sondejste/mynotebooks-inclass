{
  "nbformat": 4,
  "nbformat_minor": 0,
  "metadata": {
    "colab": {
      "name": "Hello World Exercise",
      "provenance": [],
      "authorship_tag": "ABX9TyP5zGeMTxxE4+hbkpyoVCnf",
      "include_colab_link": true
    },
    "kernelspec": {
      "name": "python3",
      "display_name": "Python 3"
    }
  },
  "cells": [
    {
      "cell_type": "markdown",
      "metadata": {
        "id": "view-in-github",
        "colab_type": "text"
      },
      "source": [
        "<a href=\"https://colab.research.google.com/github/sondejste/mynotebooks-inclass/blob/main/Hello_World_Exercise.ipynb\" target=\"_parent\"><img src=\"https://colab.research.google.com/assets/colab-badge.svg\" alt=\"Open In Colab\"/></a>"
      ]
    },
    {
      "cell_type": "code",
      "metadata": {
        "colab": {
          "base_uri": "https://localhost:8080/"
        },
        "id": "k5ZopfzI06c-",
        "outputId": "5886fa0e-079b-4a70-e541-93936f335bf6"
      },
      "source": [
        "# This is some example python code\r\n",
        "# These lines starting with # are \"comments\"\r\n",
        "# Don't be confused that # means something different in .md files than .py files\r\n",
        "\r\n",
        "print(\"HELLO WORLD!\")\r\n",
        "\r\n",
        "x = 2 + 2\r\n",
        "print(x)"
      ],
      "execution_count": 1,
      "outputs": [
        {
          "output_type": "stream",
          "text": [
            "HELLO WORLD!\n",
            "4\n"
          ],
          "name": "stdout"
        }
      ]
    }
  ]
}